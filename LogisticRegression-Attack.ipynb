{
 "cells": [
  {
   "cell_type": "code",
   "execution_count": 1,
   "id": "lesser-silicon",
   "metadata": {},
   "outputs": [],
   "source": [
    "import pandas as pd\n",
    "import numpy as np\n",
    "import matplotlib.pyplot as plt\n",
    "\n",
    "from sklearn import preprocessing\n",
    "from sklearn.linear_model import LogisticRegression\n",
    "from sklearn.model_selection import train_test_split"
   ]
  },
  {
   "cell_type": "code",
   "execution_count": 2,
   "id": "electronic-agenda",
   "metadata": {},
   "outputs": [],
   "source": [
    "df = pd.read_csv('FullDataset.csv', sep = ',', header=0)"
   ]
  },
  {
   "cell_type": "code",
   "execution_count": 3,
   "id": "single-working",
   "metadata": {},
   "outputs": [
    {
     "data": {
      "text/html": [
       "<div>\n",
       "<style scoped>\n",
       "    .dataframe tbody tr th:only-of-type {\n",
       "        vertical-align: middle;\n",
       "    }\n",
       "\n",
       "    .dataframe tbody tr th {\n",
       "        vertical-align: top;\n",
       "    }\n",
       "\n",
       "    .dataframe thead th {\n",
       "        text-align: right;\n",
       "    }\n",
       "</style>\n",
       "<table border=\"1\" class=\"dataframe\">\n",
       "  <thead>\n",
       "    <tr style=\"text-align: right;\">\n",
       "      <th></th>\n",
       "      <th>attack</th>\n",
       "      <th>stime</th>\n",
       "      <th>pkts</th>\n",
       "      <th>bytes</th>\n",
       "      <th>ltime</th>\n",
       "      <th>seq</th>\n",
       "      <th>dur</th>\n",
       "      <th>mean</th>\n",
       "      <th>stddev</th>\n",
       "      <th>sum</th>\n",
       "      <th>min</th>\n",
       "      <th>max</th>\n",
       "      <th>spkts</th>\n",
       "      <th>dpkts</th>\n",
       "      <th>sbytes</th>\n",
       "      <th>dbytes</th>\n",
       "      <th>rate</th>\n",
       "      <th>srate</th>\n",
       "      <th>drate</th>\n",
       "    </tr>\n",
       "  </thead>\n",
       "  <tbody>\n",
       "    <tr>\n",
       "      <th>0</th>\n",
       "      <td>0</td>\n",
       "      <td>1529283982</td>\n",
       "      <td>4</td>\n",
       "      <td>986</td>\n",
       "      <td>1529285063</td>\n",
       "      <td>15</td>\n",
       "      <td>1080.378906</td>\n",
       "      <td>0.000000</td>\n",
       "      <td>0.000000</td>\n",
       "      <td>0.000000</td>\n",
       "      <td>0.000000</td>\n",
       "      <td>0.000000</td>\n",
       "      <td>4</td>\n",
       "      <td>0</td>\n",
       "      <td>986</td>\n",
       "      <td>0</td>\n",
       "      <td>0.002777</td>\n",
       "      <td>0.002777</td>\n",
       "      <td>0.000000</td>\n",
       "    </tr>\n",
       "    <tr>\n",
       "      <th>1</th>\n",
       "      <td>0</td>\n",
       "      <td>1529283953</td>\n",
       "      <td>12</td>\n",
       "      <td>1053</td>\n",
       "      <td>1529284065</td>\n",
       "      <td>12</td>\n",
       "      <td>112.047569</td>\n",
       "      <td>0.024268</td>\n",
       "      <td>0.015937</td>\n",
       "      <td>0.072805</td>\n",
       "      <td>0.005787</td>\n",
       "      <td>0.044681</td>\n",
       "      <td>8</td>\n",
       "      <td>4</td>\n",
       "      <td>697</td>\n",
       "      <td>356</td>\n",
       "      <td>0.098173</td>\n",
       "      <td>0.062473</td>\n",
       "      <td>0.026774</td>\n",
       "    </tr>\n",
       "    <tr>\n",
       "      <th>2</th>\n",
       "      <td>0</td>\n",
       "      <td>1529284104</td>\n",
       "      <td>4</td>\n",
       "      <td>1086</td>\n",
       "      <td>1529284835</td>\n",
       "      <td>23</td>\n",
       "      <td>731.272095</td>\n",
       "      <td>0.000104</td>\n",
       "      <td>0.000004</td>\n",
       "      <td>0.000209</td>\n",
       "      <td>0.000101</td>\n",
       "      <td>0.000108</td>\n",
       "      <td>4</td>\n",
       "      <td>0</td>\n",
       "      <td>1086</td>\n",
       "      <td>0</td>\n",
       "      <td>0.004102</td>\n",
       "      <td>0.004102</td>\n",
       "      <td>0.000000</td>\n",
       "    </tr>\n",
       "    <tr>\n",
       "      <th>3</th>\n",
       "      <td>1</td>\n",
       "      <td>1529283913</td>\n",
       "      <td>26</td>\n",
       "      <td>1560</td>\n",
       "      <td>1529285076</td>\n",
       "      <td>10</td>\n",
       "      <td>1162.980103</td>\n",
       "      <td>0.000121</td>\n",
       "      <td>0.000027</td>\n",
       "      <td>0.001569</td>\n",
       "      <td>0.000082</td>\n",
       "      <td>0.000164</td>\n",
       "      <td>13</td>\n",
       "      <td>13</td>\n",
       "      <td>780</td>\n",
       "      <td>780</td>\n",
       "      <td>0.021496</td>\n",
       "      <td>0.010318</td>\n",
       "      <td>0.010318</td>\n",
       "    </tr>\n",
       "    <tr>\n",
       "      <th>4</th>\n",
       "      <td>1</td>\n",
       "      <td>1529284204</td>\n",
       "      <td>28</td>\n",
       "      <td>5098</td>\n",
       "      <td>1529284204</td>\n",
       "      <td>30</td>\n",
       "      <td>0.489598</td>\n",
       "      <td>0.489598</td>\n",
       "      <td>0.000000</td>\n",
       "      <td>0.489598</td>\n",
       "      <td>0.489598</td>\n",
       "      <td>0.489598</td>\n",
       "      <td>13</td>\n",
       "      <td>15</td>\n",
       "      <td>1640</td>\n",
       "      <td>3458</td>\n",
       "      <td>55.147282</td>\n",
       "      <td>24.509903</td>\n",
       "      <td>28.594887</td>\n",
       "    </tr>\n",
       "  </tbody>\n",
       "</table>\n",
       "</div>"
      ],
      "text/plain": [
       "   attack       stime  pkts  bytes       ltime  seq          dur      mean  \\\n",
       "0       0  1529283982     4    986  1529285063   15  1080.378906  0.000000   \n",
       "1       0  1529283953    12   1053  1529284065   12   112.047569  0.024268   \n",
       "2       0  1529284104     4   1086  1529284835   23   731.272095  0.000104   \n",
       "3       1  1529283913    26   1560  1529285076   10  1162.980103  0.000121   \n",
       "4       1  1529284204    28   5098  1529284204   30     0.489598  0.489598   \n",
       "\n",
       "     stddev       sum       min       max  spkts  dpkts  sbytes  dbytes  \\\n",
       "0  0.000000  0.000000  0.000000  0.000000      4      0     986       0   \n",
       "1  0.015937  0.072805  0.005787  0.044681      8      4     697     356   \n",
       "2  0.000004  0.000209  0.000101  0.000108      4      0    1086       0   \n",
       "3  0.000027  0.001569  0.000082  0.000164     13     13     780     780   \n",
       "4  0.000000  0.489598  0.489598  0.489598     13     15    1640    3458   \n",
       "\n",
       "        rate      srate      drate  \n",
       "0   0.002777   0.002777   0.000000  \n",
       "1   0.098173   0.062473   0.026774  \n",
       "2   0.004102   0.004102   0.000000  \n",
       "3   0.021496   0.010318   0.010318  \n",
       "4  55.147282  24.509903  28.594887  "
      ]
     },
     "execution_count": 3,
     "metadata": {},
     "output_type": "execute_result"
    }
   ],
   "source": [
    "df.head()"
   ]
  },
  {
   "cell_type": "code",
   "execution_count": 4,
   "id": "gothic-italic",
   "metadata": {},
   "outputs": [
    {
     "data": {
      "text/plain": [
       "Index(['attack', 'stime', 'pkts', 'bytes', 'ltime', 'seq', 'dur', 'mean',\n",
       "       'stddev', 'sum', 'min', 'max', 'spkts', 'dpkts', 'sbytes', 'dbytes',\n",
       "       'rate', 'srate', 'drate'],\n",
       "      dtype='object')"
      ]
     },
     "execution_count": 4,
     "metadata": {},
     "output_type": "execute_result"
    }
   ],
   "source": [
    "df.columns"
   ]
  },
  {
   "cell_type": "code",
   "execution_count": 5,
   "id": "centered-microwave",
   "metadata": {},
   "outputs": [],
   "source": [
    "X = df.iloc[:,1:]"
   ]
  },
  {
   "cell_type": "code",
   "execution_count": 6,
   "id": "informal-socket",
   "metadata": {},
   "outputs": [
    {
     "data": {
      "text/plain": [
       "0    0\n",
       "1    0\n",
       "2    0\n",
       "3    1\n",
       "4    1\n",
       "Name: attack, dtype: int64"
      ]
     },
     "execution_count": 6,
     "metadata": {},
     "output_type": "execute_result"
    }
   ],
   "source": [
    "Y = df.iloc[:,0]\n",
    "Y.head()"
   ]
  },
  {
   "cell_type": "code",
   "execution_count": 7,
   "id": "harmful-conclusion",
   "metadata": {},
   "outputs": [],
   "source": [
    "X_train, X_test, Y_train, Y_test = train_test_split(X, Y, random_state=0)"
   ]
  },
  {
   "cell_type": "code",
   "execution_count": 8,
   "id": "driven-edition",
   "metadata": {},
   "outputs": [],
   "source": [
    "classifier = LogisticRegression(solver='lbfgs',random_state=0)"
   ]
  },
  {
   "cell_type": "code",
   "execution_count": 9,
   "id": "apart-concrete",
   "metadata": {},
   "outputs": [
    {
     "data": {
      "text/plain": [
       "LogisticRegression(random_state=0)"
      ]
     },
     "execution_count": 9,
     "metadata": {},
     "output_type": "execute_result"
    }
   ],
   "source": [
    "classifier.fit(X_train, Y_train)"
   ]
  },
  {
   "cell_type": "code",
   "execution_count": 10,
   "id": "thousand-magic",
   "metadata": {},
   "outputs": [
    {
     "data": {
      "text/plain": [
       "array([1, 1, 1, 1, 1, 1, 1, 1, 1, 1, 1, 0, 1, 1, 0, 0, 1, 1, 1, 1, 1, 1,\n",
       "       1, 1, 1, 1, 1, 1, 1, 0, 1, 1, 1, 1, 1, 1])"
      ]
     },
     "execution_count": 10,
     "metadata": {},
     "output_type": "execute_result"
    }
   ],
   "source": [
    "predicted_y = classifier.predict(X_test)\n",
    "predicted_y"
   ]
  },
  {
   "cell_type": "code",
   "execution_count": 11,
   "id": "french-spray",
   "metadata": {},
   "outputs": [
    {
     "name": "stdout",
     "output_type": "stream",
     "text": [
      "0\t1\t2\t3\t4\t5\t6\t7\t8\t9\t10\t12\t13\t16\t17\t18\t19\t20\t21\t22\t23\t24\t25\t26\t27\t28\t30\t31\t32\t33\t34\t35\t"
     ]
    }
   ],
   "source": [
    "for x in range(len(predicted_y)):\n",
    "   if (predicted_y[x] == 1):\n",
    "      print(x, end=\"\\t\")\n"
   ]
  },
  {
   "cell_type": "code",
   "execution_count": 12,
   "id": "portable-carrier",
   "metadata": {},
   "outputs": [
    {
     "name": "stdout",
     "output_type": "stream",
     "text": [
      "Accuracy: 0.94\n"
     ]
    }
   ],
   "source": [
    "print('Accuracy: {:.2f}'.format(classifier.score(X_test, Y_test)))"
   ]
  }
 ],
 "metadata": {
  "kernelspec": {
   "display_name": "Python 3",
   "language": "python",
   "name": "python3"
  },
  "language_info": {
   "codemirror_mode": {
    "name": "ipython",
    "version": 3
   },
   "file_extension": ".py",
   "mimetype": "text/x-python",
   "name": "python",
   "nbconvert_exporter": "python",
   "pygments_lexer": "ipython3",
   "version": "3.8.5"
  }
 },
 "nbformat": 4,
 "nbformat_minor": 5
}
